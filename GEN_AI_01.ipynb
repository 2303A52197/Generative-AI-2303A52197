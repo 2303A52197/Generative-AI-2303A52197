{
  "nbformat": 4,
  "nbformat_minor": 0,
  "metadata": {
    "colab": {
      "provenance": [],
      "authorship_tag": "ABX9TyOa5vkNh7XyJNIAu9ugAhfH",
      "include_colab_link": true
    },
    "kernelspec": {
      "name": "python3",
      "display_name": "Python 3"
    },
    "language_info": {
      "name": "python"
    }
  },
  "cells": [
    {
      "cell_type": "markdown",
      "metadata": {
        "id": "view-in-github",
        "colab_type": "text"
      },
      "source": [
        "<a href=\"https://colab.research.google.com/github/2303A52197/Generative-AI-2303A52197/blob/main/GEN_AI_01.ipynb\" target=\"_parent\"><img src=\"https://colab.research.google.com/assets/colab-badge.svg\" alt=\"Open In Colab\"/></a>"
      ]
    },
    {
      "cell_type": "code",
      "execution_count": 1,
      "metadata": {
        "id": "IhC1YE8jQQ-0"
      },
      "outputs": [],
      "source": [
        "import math\n",
        ""
      ]
    },
    {
      "cell_type": "code",
      "source": [
        "Y_actual = [20, 30, 40, 50, 60]\n",
        "y_Pred = [20.5, 30.3, 40.2, 50.6, 60.7]\n",
        "mean_actual = 0\n",
        "for i in range(len(Y_actual)):\n",
        "  mean_actual += Y_actual[i]\n",
        "\n",
        "mean_actual = mean_actual/len(Y_actual)\n",
        "print(\"Mean of actual values:\", mean_actual)"
      ],
      "metadata": {
        "colab": {
          "base_uri": "https://localhost:8080/"
        },
        "id": "zG7TFTJfQSxC",
        "outputId": "0a650437-2c43-4ed9-9cdb-174290338370"
      },
      "execution_count": 2,
      "outputs": [
        {
          "output_type": "stream",
          "name": "stdout",
          "text": [
            "Mean of actual values: 40.0\n"
          ]
        }
      ]
    },
    {
      "cell_type": "code",
      "source": [
        "squared_diff =[]\n",
        "for i in range(len(Y_actual)):\n",
        "  squared_diff.append((Y_actual[i] - y_Pred[i]) ** 2)\n",
        "mse = sum(squared_diff) / len(Y_actual)\n",
        "rmse = math.sqrt(mse)\n",
        "\n",
        "print(\"RMSE:\", rmse)\n",
        "print(\"mse :\",mse)\n"
      ],
      "metadata": {
        "colab": {
          "base_uri": "https://localhost:8080/"
        },
        "id": "Ry5yk_uuQgbH",
        "outputId": "bfb503c7-fe87-4b66-9bff-b54113ab5d0a"
      },
      "execution_count": 3,
      "outputs": [
        {
          "output_type": "stream",
          "name": "stdout",
          "text": [
            "RMSE: 0.49598387070549127\n",
            "mse : 0.24600000000000147\n"
          ]
        }
      ]
    },
    {
      "cell_type": "code",
      "source": [
        "mae =[]\n",
        "for i in range(len(Y_actual)):\n",
        "  mae.append((Y_actual[i] -y_Pred[i]))\n",
        "MAE = sum(mae) / len(Y_actual)\n",
        "print(\"MAE:\", abs(MAE))\n",
        "\n",
        ""
      ],
      "metadata": {
        "colab": {
          "base_uri": "https://localhost:8080/"
        },
        "id": "AlW9ROxVQ2qe",
        "outputId": "49af8925-c64d-48ff-aed6-dd6115bf9b1f"
      },
      "execution_count": 4,
      "outputs": [
        {
          "output_type": "stream",
          "name": "stdout",
          "text": [
            "MAE: 0.4600000000000016\n"
          ]
        }
      ]
    },
    {
      "cell_type": "code",
      "source": [],
      "metadata": {
        "id": "q2u_-og3Q4Wg"
      },
      "execution_count": null,
      "outputs": []
    }
  ]
}